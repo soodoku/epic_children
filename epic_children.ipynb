{
 "cells": [
  {
   "cell_type": "code",
   "execution_count": 1,
   "id": "e72befed",
   "metadata": {},
   "outputs": [],
   "source": [
    "import pandas as pd"
   ]
  },
  {
   "cell_type": "code",
   "execution_count": 4,
   "id": "ef3b8a45",
   "metadata": {},
   "outputs": [
    {
     "data": {
      "text/html": [
       "<div>\n",
       "<style scoped>\n",
       "    .dataframe tbody tr th:only-of-type {\n",
       "        vertical-align: middle;\n",
       "    }\n",
       "\n",
       "    .dataframe tbody tr th {\n",
       "        vertical-align: top;\n",
       "    }\n",
       "\n",
       "    .dataframe thead th {\n",
       "        text-align: right;\n",
       "    }\n",
       "</style>\n",
       "<table border=\"1\" class=\"dataframe\">\n",
       "  <thead>\n",
       "    <tr style=\"text-align: right;\">\n",
       "      <th></th>\n",
       "      <th>id</th>\n",
       "      <th>parents</th>\n",
       "      <th>n_sons</th>\n",
       "      <th>sons</th>\n",
       "      <th>n_daughters</th>\n",
       "      <th>daughters</th>\n",
       "      <th>n_unknown_sex</th>\n",
       "      <th>n_total</th>\n",
       "      <th>epic</th>\n",
       "      <th>comments</th>\n",
       "    </tr>\n",
       "  </thead>\n",
       "  <tbody>\n",
       "    <tr>\n",
       "      <th>0</th>\n",
       "      <td>1</td>\n",
       "      <td>Dashrath and 3 women</td>\n",
       "      <td>4.0</td>\n",
       "      <td>shatrughana, ram, lakshman, bharat</td>\n",
       "      <td>1.0</td>\n",
       "      <td>shanta</td>\n",
       "      <td>0.0</td>\n",
       "      <td>5</td>\n",
       "      <td>ramayan</td>\n",
       "      <td>NaN</td>\n",
       "    </tr>\n",
       "    <tr>\n",
       "      <th>1</th>\n",
       "      <td>2</td>\n",
       "      <td>Ram and Sita</td>\n",
       "      <td>2.0</td>\n",
       "      <td>Luv and Kush</td>\n",
       "      <td>0.0</td>\n",
       "      <td>NaN</td>\n",
       "      <td>0.0</td>\n",
       "      <td>2</td>\n",
       "      <td>ramayan</td>\n",
       "      <td>NaN</td>\n",
       "    </tr>\n",
       "    <tr>\n",
       "      <th>2</th>\n",
       "      <td>3</td>\n",
       "      <td>Kush and Kumudvati</td>\n",
       "      <td>1.0</td>\n",
       "      <td>Atithi</td>\n",
       "      <td>0.0</td>\n",
       "      <td>NaN</td>\n",
       "      <td>0.0</td>\n",
       "      <td>1</td>\n",
       "      <td>ramayan</td>\n",
       "      <td>NaN</td>\n",
       "    </tr>\n",
       "    <tr>\n",
       "      <th>3</th>\n",
       "      <td>4</td>\n",
       "      <td>Lakshman and Urmila</td>\n",
       "      <td>2.0</td>\n",
       "      <td>Angada and Chandraketu</td>\n",
       "      <td>0.0</td>\n",
       "      <td>NaN</td>\n",
       "      <td>0.0</td>\n",
       "      <td>2</td>\n",
       "      <td>ramayan</td>\n",
       "      <td>NaN</td>\n",
       "    </tr>\n",
       "    <tr>\n",
       "      <th>4</th>\n",
       "      <td>5</td>\n",
       "      <td>Bharat and Mandavi</td>\n",
       "      <td>2.0</td>\n",
       "      <td>Taksha and Pushkala</td>\n",
       "      <td>0.0</td>\n",
       "      <td>NaN</td>\n",
       "      <td>0.0</td>\n",
       "      <td>2</td>\n",
       "      <td>ramayan</td>\n",
       "      <td>NaN</td>\n",
       "    </tr>\n",
       "  </tbody>\n",
       "</table>\n",
       "</div>"
      ],
      "text/plain": [
       "   id               parents  n_sons                                sons  \\\n",
       "0   1  Dashrath and 3 women     4.0  shatrughana, ram, lakshman, bharat   \n",
       "1   2          Ram and Sita     2.0                        Luv and Kush   \n",
       "2   3    Kush and Kumudvati     1.0                              Atithi   \n",
       "3   4   Lakshman and Urmila     2.0              Angada and Chandraketu   \n",
       "4   5    Bharat and Mandavi     2.0                 Taksha and Pushkala   \n",
       "\n",
       "   n_daughters daughters  n_unknown_sex  n_total     epic comments  \n",
       "0          1.0    shanta            0.0        5  ramayan      NaN  \n",
       "1          0.0       NaN            0.0        2  ramayan      NaN  \n",
       "2          0.0       NaN            0.0        1  ramayan      NaN  \n",
       "3          0.0       NaN            0.0        2  ramayan      NaN  \n",
       "4          0.0       NaN            0.0        2  ramayan      NaN  "
      ]
     },
     "execution_count": 4,
     "metadata": {},
     "output_type": "execute_result"
    }
   ],
   "source": [
    "epic = pd.read_csv(\"epic_children.csv\")\n",
    "epic.head()"
   ]
  },
  {
   "cell_type": "code",
   "execution_count": 5,
   "id": "9c9f0415",
   "metadata": {},
   "outputs": [
    {
     "data": {
      "text/plain": [
       "(80, 10)"
      ]
     },
     "execution_count": 5,
     "metadata": {},
     "output_type": "execute_result"
    }
   ],
   "source": [
    "epic_hind = epic[epic['epic'].isin(['ramayan', 'mahabharat'])]\n",
    "epic_hind.shape"
   ]
  },
  {
   "cell_type": "code",
   "execution_count": 6,
   "id": "ca9cbe13",
   "metadata": {},
   "outputs": [
    {
     "data": {
      "text/plain": [
       "12.844444444444445"
      ]
     },
     "execution_count": 6,
     "metadata": {},
     "output_type": "execute_result"
    }
   ],
   "source": [
    "epic_hind['n_sons'].sum()/epic_hind['n_daughters'].sum()"
   ]
  },
  {
   "cell_type": "code",
   "execution_count": 10,
   "id": "ad7d9b08",
   "metadata": {},
   "outputs": [
    {
     "data": {
      "text/plain": [
       "0.1368567886464668"
      ]
     },
     "execution_count": 10,
     "metadata": {},
     "output_type": "execute_result"
    }
   ],
   "source": [
    "(epic_hind['n_daughters']/(epic_hind['n_sons'] + epic_hind['n_daughters'])).mean()"
   ]
  },
  {
   "cell_type": "code",
   "execution_count": 7,
   "id": "9081e81b",
   "metadata": {},
   "outputs": [
    {
     "data": {
      "text/plain": [
       "5.457142857142857"
      ]
     },
     "execution_count": 7,
     "metadata": {},
     "output_type": "execute_result"
    }
   ],
   "source": [
    "epic_small = epic_hind[(epic_hind['n_sons'] + epic_hind['n_daughters']) < 50 ]\n",
    "epic_small['n_sons'].sum()/epic_small['n_daughters'].sum()"
   ]
  },
  {
   "cell_type": "code",
   "execution_count": null,
   "id": "83f5f8c4",
   "metadata": {},
   "outputs": [],
   "source": [
    "epic"
   ]
  }
 ],
 "metadata": {
  "kernelspec": {
   "display_name": "Python 3 (ipykernel)",
   "language": "python",
   "name": "python3"
  },
  "language_info": {
   "codemirror_mode": {
    "name": "ipython",
    "version": 3
   },
   "file_extension": ".py",
   "mimetype": "text/x-python",
   "name": "python",
   "nbconvert_exporter": "python",
   "pygments_lexer": "ipython3",
   "version": "3.9.13"
  }
 },
 "nbformat": 4,
 "nbformat_minor": 5
}
