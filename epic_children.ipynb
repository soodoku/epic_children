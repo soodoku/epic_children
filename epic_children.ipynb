{
 "cells": [
  {
   "cell_type": "code",
   "execution_count": 1,
   "id": "e720ba01",
   "metadata": {},
   "outputs": [],
   "source": [
    "import pandas as pd"
   ]
  },
  {
   "cell_type": "code",
   "execution_count": 2,
   "id": "637b2b35",
   "metadata": {},
   "outputs": [
    {
     "data": {
      "text/html": [
       "<div>\n",
       "<style scoped>\n",
       "    .dataframe tbody tr th:only-of-type {\n",
       "        vertical-align: middle;\n",
       "    }\n",
       "\n",
       "    .dataframe tbody tr th {\n",
       "        vertical-align: top;\n",
       "    }\n",
       "\n",
       "    .dataframe thead th {\n",
       "        text-align: right;\n",
       "    }\n",
       "</style>\n",
       "<table border=\"1\" class=\"dataframe\">\n",
       "  <thead>\n",
       "    <tr style=\"text-align: right;\">\n",
       "      <th></th>\n",
       "      <th>parents</th>\n",
       "      <th>n_sons</th>\n",
       "      <th>sons</th>\n",
       "      <th>n_daughters</th>\n",
       "      <th>daughters</th>\n",
       "      <th>n_unknown_sex</th>\n",
       "      <th>epic</th>\n",
       "      <th>comments</th>\n",
       "    </tr>\n",
       "  </thead>\n",
       "  <tbody>\n",
       "    <tr>\n",
       "      <th>0</th>\n",
       "      <td>Abhimanyu</td>\n",
       "      <td>1</td>\n",
       "      <td>NaN</td>\n",
       "      <td>0</td>\n",
       "      <td>NaN</td>\n",
       "      <td>NaN</td>\n",
       "      <td>mahabharat</td>\n",
       "      <td>https://en.wikipedia.org/wiki/Abhimanyu</td>\n",
       "    </tr>\n",
       "    <tr>\n",
       "      <th>1</th>\n",
       "      <td>Abraham</td>\n",
       "      <td>8</td>\n",
       "      <td>NaN</td>\n",
       "      <td>0</td>\n",
       "      <td>NaN</td>\n",
       "      <td>NaN</td>\n",
       "      <td>bible</td>\n",
       "      <td>NaN</td>\n",
       "    </tr>\n",
       "    <tr>\n",
       "      <th>2</th>\n",
       "      <td>Abraham</td>\n",
       "      <td>2</td>\n",
       "      <td>NaN</td>\n",
       "      <td>0</td>\n",
       "      <td>NaN</td>\n",
       "      <td>NaN</td>\n",
       "      <td>quran</td>\n",
       "      <td>diff. from bible</td>\n",
       "    </tr>\n",
       "    <tr>\n",
       "      <th>3</th>\n",
       "      <td>Adam and Eve</td>\n",
       "      <td>2</td>\n",
       "      <td>NaN</td>\n",
       "      <td>0</td>\n",
       "      <td>NaN</td>\n",
       "      <td>NaN</td>\n",
       "      <td>bible</td>\n",
       "      <td>NaN</td>\n",
       "    </tr>\n",
       "    <tr>\n",
       "      <th>4</th>\n",
       "      <td>Adhiratha</td>\n",
       "      <td>1</td>\n",
       "      <td>NaN</td>\n",
       "      <td>0</td>\n",
       "      <td>NaN</td>\n",
       "      <td>NaN</td>\n",
       "      <td>mahabharat</td>\n",
       "      <td>NaN</td>\n",
       "    </tr>\n",
       "  </tbody>\n",
       "</table>\n",
       "</div>"
      ],
      "text/plain": [
       "        parents  n_sons sons  n_daughters daughters  n_unknown_sex  \\\n",
       "0     Abhimanyu       1  NaN            0       NaN            NaN   \n",
       "1       Abraham       8  NaN            0       NaN            NaN   \n",
       "2       Abraham       2  NaN            0       NaN            NaN   \n",
       "3  Adam and Eve       2  NaN            0       NaN            NaN   \n",
       "4     Adhiratha       1  NaN            0       NaN            NaN   \n",
       "\n",
       "         epic                                 comments  \n",
       "0  mahabharat  https://en.wikipedia.org/wiki/Abhimanyu  \n",
       "1       bible                                      NaN  \n",
       "2       quran                         diff. from bible  \n",
       "3       bible                                      NaN  \n",
       "4  mahabharat                                      NaN  "
      ]
     },
     "execution_count": 2,
     "metadata": {},
     "output_type": "execute_result"
    }
   ],
   "source": [
    "epic = pd.read_csv(\"epic_children.csv\")\n",
    "epic.head()"
   ]
  },
  {
   "cell_type": "code",
   "execution_count": 3,
   "id": "1a3ed794",
   "metadata": {},
   "outputs": [
    {
     "data": {
      "text/plain": [
       "(117, 8)"
      ]
     },
     "execution_count": 3,
     "metadata": {},
     "output_type": "execute_result"
    }
   ],
   "source": [
    "epic_hind = epic[epic['epic'].isin(['ramayan', 'mahabharat'])]\n",
    "epic_hind.shape"
   ]
  },
  {
   "cell_type": "code",
   "execution_count": 4,
   "id": "9d7f0c2f",
   "metadata": {},
   "outputs": [
    {
     "data": {
      "text/plain": [
       "count     117.000000\n",
       "mean       15.752137\n",
       "std        94.128480\n",
       "min         1.000000\n",
       "25%         1.000000\n",
       "50%         2.000000\n",
       "75%         5.000000\n",
       "max      1002.000000\n",
       "dtype: float64"
      ]
     },
     "execution_count": 4,
     "metadata": {},
     "output_type": "execute_result"
    }
   ],
   "source": [
    "(epic_hind['n_sons'] + epic_hind['n_daughters']).describe()"
   ]
  },
  {
   "cell_type": "code",
   "execution_count": 5,
   "id": "e240dd12",
   "metadata": {},
   "outputs": [
    {
     "data": {
      "text/plain": [
       "24.95774647887324"
      ]
     },
     "execution_count": 5,
     "metadata": {},
     "output_type": "execute_result"
    }
   ],
   "source": [
    "epic_hind['n_sons'].sum()/epic_hind['n_daughters'].sum()"
   ]
  },
  {
   "cell_type": "code",
   "execution_count": 6,
   "id": "37021bfc",
   "metadata": {},
   "outputs": [
    {
     "data": {
      "text/plain": [
       "0.14713208671011788"
      ]
     },
     "execution_count": 6,
     "metadata": {},
     "output_type": "execute_result"
    }
   ],
   "source": [
    "(epic_hind['n_daughters']/(epic_hind['n_sons'] + epic_hind['n_daughters'])).mean()"
   ]
  },
  {
   "cell_type": "code",
   "execution_count": 7,
   "id": "4e47613f",
   "metadata": {},
   "outputs": [
    {
     "data": {
      "text/plain": [
       "4.810344827586207"
      ]
     },
     "execution_count": 7,
     "metadata": {},
     "output_type": "execute_result"
    }
   ],
   "source": [
    "epic_small = epic_hind[(epic_hind['n_sons'] + epic_hind['n_daughters']) < 50 ]\n",
    "epic_small['n_sons'].sum()/epic_small['n_daughters'].sum()"
   ]
  },
  {
   "cell_type": "code",
   "execution_count": 8,
   "id": "351180ae",
   "metadata": {},
   "outputs": [
    {
     "data": {
      "text/html": [
       "<div>\n",
       "<style scoped>\n",
       "    .dataframe tbody tr th:only-of-type {\n",
       "        vertical-align: middle;\n",
       "    }\n",
       "\n",
       "    .dataframe tbody tr th {\n",
       "        vertical-align: top;\n",
       "    }\n",
       "\n",
       "    .dataframe thead th {\n",
       "        text-align: right;\n",
       "    }\n",
       "</style>\n",
       "<table border=\"1\" class=\"dataframe\">\n",
       "  <thead>\n",
       "    <tr style=\"text-align: right;\">\n",
       "      <th></th>\n",
       "      <th>parents</th>\n",
       "      <th>n_sons</th>\n",
       "      <th>sons</th>\n",
       "      <th>n_daughters</th>\n",
       "      <th>daughters</th>\n",
       "      <th>n_unknown_sex</th>\n",
       "      <th>epic</th>\n",
       "      <th>comments</th>\n",
       "    </tr>\n",
       "  </thead>\n",
       "  <tbody>\n",
       "    <tr>\n",
       "      <th>0</th>\n",
       "      <td>Abhimanyu</td>\n",
       "      <td>1</td>\n",
       "      <td>NaN</td>\n",
       "      <td>0</td>\n",
       "      <td>NaN</td>\n",
       "      <td>NaN</td>\n",
       "      <td>mahabharat</td>\n",
       "      <td>https://en.wikipedia.org/wiki/Abhimanyu</td>\n",
       "    </tr>\n",
       "    <tr>\n",
       "      <th>1</th>\n",
       "      <td>Abraham</td>\n",
       "      <td>8</td>\n",
       "      <td>NaN</td>\n",
       "      <td>0</td>\n",
       "      <td>NaN</td>\n",
       "      <td>NaN</td>\n",
       "      <td>bible</td>\n",
       "      <td>NaN</td>\n",
       "    </tr>\n",
       "    <tr>\n",
       "      <th>2</th>\n",
       "      <td>Abraham</td>\n",
       "      <td>2</td>\n",
       "      <td>NaN</td>\n",
       "      <td>0</td>\n",
       "      <td>NaN</td>\n",
       "      <td>NaN</td>\n",
       "      <td>quran</td>\n",
       "      <td>diff. from bible</td>\n",
       "    </tr>\n",
       "    <tr>\n",
       "      <th>3</th>\n",
       "      <td>Adam and Eve</td>\n",
       "      <td>2</td>\n",
       "      <td>NaN</td>\n",
       "      <td>0</td>\n",
       "      <td>NaN</td>\n",
       "      <td>NaN</td>\n",
       "      <td>bible</td>\n",
       "      <td>NaN</td>\n",
       "    </tr>\n",
       "    <tr>\n",
       "      <th>4</th>\n",
       "      <td>Adhiratha</td>\n",
       "      <td>1</td>\n",
       "      <td>NaN</td>\n",
       "      <td>0</td>\n",
       "      <td>NaN</td>\n",
       "      <td>NaN</td>\n",
       "      <td>mahabharat</td>\n",
       "      <td>NaN</td>\n",
       "    </tr>\n",
       "    <tr>\n",
       "      <th>...</th>\n",
       "      <td>...</td>\n",
       "      <td>...</td>\n",
       "      <td>...</td>\n",
       "      <td>...</td>\n",
       "      <td>...</td>\n",
       "      <td>...</td>\n",
       "      <td>...</td>\n",
       "      <td>...</td>\n",
       "    </tr>\n",
       "    <tr>\n",
       "      <th>171</th>\n",
       "      <td>Hema</td>\n",
       "      <td>2</td>\n",
       "      <td>NaN</td>\n",
       "      <td>1</td>\n",
       "      <td>mandodari</td>\n",
       "      <td>NaN</td>\n",
       "      <td>ramayan</td>\n",
       "      <td>https://en.wikipedia.org/wiki/List_of_characte...</td>\n",
       "    </tr>\n",
       "    <tr>\n",
       "      <th>172</th>\n",
       "      <td>Mandodari</td>\n",
       "      <td>3</td>\n",
       "      <td>NaN</td>\n",
       "      <td>0</td>\n",
       "      <td>NaN</td>\n",
       "      <td>NaN</td>\n",
       "      <td>ramayan</td>\n",
       "      <td>https://en.wikipedia.org/wiki/Mandodari</td>\n",
       "    </tr>\n",
       "    <tr>\n",
       "      <th>173</th>\n",
       "      <td>Prahasta</td>\n",
       "      <td>8</td>\n",
       "      <td>NaN</td>\n",
       "      <td>0</td>\n",
       "      <td>NaN</td>\n",
       "      <td>NaN</td>\n",
       "      <td>ramayan</td>\n",
       "      <td>NaN</td>\n",
       "    </tr>\n",
       "    <tr>\n",
       "      <th>174</th>\n",
       "      <td>Sampati</td>\n",
       "      <td>2</td>\n",
       "      <td>NaN</td>\n",
       "      <td>0</td>\n",
       "      <td>NaN</td>\n",
       "      <td>NaN</td>\n",
       "      <td>ramayan</td>\n",
       "      <td>https://en.wikipedia.org/wiki/Sampati</td>\n",
       "    </tr>\n",
       "    <tr>\n",
       "      <th>175</th>\n",
       "      <td>Tataka</td>\n",
       "      <td>2</td>\n",
       "      <td>NaN</td>\n",
       "      <td>0</td>\n",
       "      <td>NaN</td>\n",
       "      <td>NaN</td>\n",
       "      <td>ramayan</td>\n",
       "      <td>https://en.wikipedia.org/wiki/Tataka</td>\n",
       "    </tr>\n",
       "  </tbody>\n",
       "</table>\n",
       "<p>176 rows × 8 columns</p>\n",
       "</div>"
      ],
      "text/plain": [
       "          parents  n_sons sons  n_daughters  daughters  n_unknown_sex  \\\n",
       "0       Abhimanyu       1  NaN            0        NaN            NaN   \n",
       "1         Abraham       8  NaN            0        NaN            NaN   \n",
       "2         Abraham       2  NaN            0        NaN            NaN   \n",
       "3    Adam and Eve       2  NaN            0        NaN            NaN   \n",
       "4       Adhiratha       1  NaN            0        NaN            NaN   \n",
       "..            ...     ...  ...          ...        ...            ...   \n",
       "171          Hema       2  NaN            1  mandodari            NaN   \n",
       "172     Mandodari       3  NaN            0        NaN            NaN   \n",
       "173      Prahasta       8  NaN            0        NaN            NaN   \n",
       "174       Sampati       2  NaN            0        NaN            NaN   \n",
       "175        Tataka       2  NaN            0        NaN            NaN   \n",
       "\n",
       "           epic                                           comments  \n",
       "0    mahabharat            https://en.wikipedia.org/wiki/Abhimanyu  \n",
       "1         bible                                                NaN  \n",
       "2         quran                                   diff. from bible  \n",
       "3         bible                                                NaN  \n",
       "4    mahabharat                                                NaN  \n",
       "..          ...                                                ...  \n",
       "171     ramayan  https://en.wikipedia.org/wiki/List_of_characte...  \n",
       "172     ramayan            https://en.wikipedia.org/wiki/Mandodari  \n",
       "173     ramayan                                                NaN  \n",
       "174     ramayan              https://en.wikipedia.org/wiki/Sampati  \n",
       "175     ramayan               https://en.wikipedia.org/wiki/Tataka  \n",
       "\n",
       "[176 rows x 8 columns]"
      ]
     },
     "execution_count": 8,
     "metadata": {},
     "output_type": "execute_result"
    }
   ],
   "source": [
    "epic"
   ]
  }
 ],
 "metadata": {
  "kernelspec": {
   "display_name": "Python 3 (ipykernel)",
   "language": "python",
   "name": "python3"
  },
  "language_info": {
   "codemirror_mode": {
    "name": "ipython",
    "version": 3
   },
   "file_extension": ".py",
   "mimetype": "text/x-python",
   "name": "python",
   "nbconvert_exporter": "python",
   "pygments_lexer": "ipython3",
   "version": "3.9.13"
  }
 },
 "nbformat": 4,
 "nbformat_minor": 5
}
